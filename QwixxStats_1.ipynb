{
  "nbformat": 4,
  "nbformat_minor": 0,
  "metadata": {
    "colab": {
      "name": "QwixxStats_1.ipynb",
      "provenance": [],
      "collapsed_sections": [
        "C983jJ7I6ebQ"
      ],
      "toc_visible": true
    },
    "kernelspec": {
      "name": "python3",
      "display_name": "Python 3"
    },
    "language_info": {
      "name": "python"
    }
  },
  "cells": [
    {
      "cell_type": "markdown",
      "source": [
        "# Qwixx game in Python"
      ],
      "metadata": {
        "id": "9Br-KFRgHjT7"
      }
    },
    {
      "cell_type": "markdown",
      "source": [
        "<p>The main goal of this project is to build simulations of Qwixx games given few parameters</p>"
      ],
      "metadata": {
        "id": "OHKNZT3KHrFG"
      }
    },
    {
      "cell_type": "markdown",
      "source": [
        "## Libraries import, global variables and functions definition"
      ],
      "metadata": {
        "id": "gdCie--pHtGB"
      }
    },
    {
      "cell_type": "code",
      "execution_count": 1,
      "metadata": {
        "id": "QmXLSXjXbHkp"
      },
      "outputs": [],
      "source": [
        "import random, unittest, json"
      ]
    },
    {
      "cell_type": "code",
      "source": [
        "MAXGAP = 2\n",
        "\n",
        "PADLOCKS_CHECKED = False\n",
        "PENALTIES = False"
      ],
      "metadata": {
        "id": "_YujnZumG7e3"
      },
      "execution_count": 2,
      "outputs": []
    },
    {
      "cell_type": "code",
      "source": [
        "def get_states():\n",
        "  return [False for _ in range(2, 13)]\n",
        "\n",
        "def get_inc():\n",
        "  return [i for i in range(2, 13)]\n",
        "\n",
        "def get_dec():\n",
        "  return [i for i in range(12, 1, -1)]\n",
        "\n",
        "def gen_sequences():\n",
        "  n = [i for i in range(2, 13)]\n",
        "  # n = [i for i in range(12, 1, -1)]\n",
        "  s = [False for _ in range(2, 13)]\n",
        "  s[1] = True\n",
        "  r = random.randint(1, 6)+random.randint(1, 6)\n",
        "  return n, s, r\n",
        "\n",
        "def compute_gap(n, s, r):\n",
        "  ct = s.count(True)\n",
        "  if ct==0:\n",
        "    gap = n.index(r)+1\n",
        "    if gap<=MAXGAP:\n",
        "      s[n.index(r)]=True\n",
        "  else:\n",
        "    ltidx=max(loc for loc, val in enumerate(s) if val)\n",
        "    gap = ltidx-n.index(r)\n",
        "    if gap<0 and abs(gap)<=MAXGAP:\n",
        "      s[n.index(r)]=True\n",
        "  return s\n",
        "\n",
        "def roll_dices():\n",
        "  dices = {\n",
        "    \"rolled\": {\n",
        "      \"w1\": None,\n",
        "      \"w2\": None,\n",
        "      \"b\": None,\n",
        "      \"g\": None,\n",
        "      \"r\": None,\n",
        "      \"y\": None\n",
        "    }\n",
        "  } \n",
        "  for key in dices['rolled']:\n",
        "    dices['rolled'][key]=random.randint(1, 6)\n",
        "  dices['combinations'] = {\n",
        "      'w': dices['rolled']['w1']+dices['rolled']['w2'],\n",
        "      'w1b': dices['rolled']['w1']+dices['rolled']['b'],\n",
        "      'w1g': dices['rolled']['w1']+dices['rolled']['g'],\n",
        "      'w1r': dices['rolled']['w1']+dices['rolled']['r'],\n",
        "      'w1y': dices['rolled']['w1']+dices['rolled']['y'],\n",
        "      'w2b': dices['rolled']['w2']+dices['rolled']['b'],\n",
        "      'w2g': dices['rolled']['w2']+dices['rolled']['g'],\n",
        "      'w2r': dices['rolled']['w2']+dices['rolled']['r'],\n",
        "      'w2y': dices['rolled']['w2']+dices['rolled']['y']\n",
        "  }\n",
        "  return dices\n",
        "\n",
        "def generate_grids():\n",
        "  return {\n",
        "      \"r\": {\n",
        "          \"n\": get_inc(),\n",
        "          \"s\": get_states()\n",
        "      },\n",
        "      \"y\": {\n",
        "          \"n\": get_inc(),\n",
        "          \"s\": get_states()\n",
        "      },\n",
        "      \"g\": {\n",
        "          \"n\": get_dec(),\n",
        "          \"s\": get_states()\n",
        "      },\n",
        "      \"b\": {\n",
        "          \"n\": get_dec(),\n",
        "          \"s\": get_states()\n",
        "      },\n",
        "      \"penalties\": [False for _ in range(4)]\n",
        "  }"
      ],
      "metadata": {
        "id": "Z6lU7zcOwGke"
      },
      "execution_count": 9,
      "outputs": []
    },
    {
      "cell_type": "markdown",
      "source": [
        "## Tests on the fly"
      ],
      "metadata": {
        "id": "2_3vHtbnHzIW"
      }
    },
    {
      "cell_type": "code",
      "source": [
        "grids = generate_grids()\n",
        "dices = roll_dices()\n",
        "\n",
        "# check white dices\n",
        "white_dices = dices['combinations']['w']\n",
        "for grid in grids:\n",
        "  "
      ],
      "metadata": {
        "colab": {
          "base_uri": "https://localhost:8080/"
        },
        "id": "fauFpBsvGcTq",
        "outputId": "0a0b3ce0-5078-48c0-a9d8-fce5b20865fd"
      },
      "execution_count": 18,
      "outputs": [
        {
          "output_type": "execute_result",
          "data": {
            "text/plain": [
              "9"
            ]
          },
          "metadata": {},
          "execution_count": 18
        }
      ]
    },
    {
      "cell_type": "markdown",
      "source": [
        "## Test"
      ],
      "metadata": {
        "id": "C983jJ7I6ebQ"
      }
    },
    {
      "cell_type": "code",
      "source": [
        "MAXGAP = 3\n",
        "class TestComputeGap(unittest.TestCase):\n",
        "\n",
        "  def get_no_checked(self):\n",
        "    return [False for _ in range(2, 13)]\n",
        "\n",
        "  def get_one_checked(self, i):\n",
        "    s = self.get_no_checked()\n",
        "    s[i]=True\n",
        "    return s\n",
        "\n",
        "  def get_checked(self, li):\n",
        "    s=[False for _ in range(2, 13)]\n",
        "    for idx in li:\n",
        "      s[idx]=True\n",
        "    return s\n",
        "  \n",
        "  def get_inc(self):\n",
        "    return [i for i in range(2, 13)]\n",
        "\n",
        "  def get_dec(self):\n",
        "    return [i for i in range(12, 1, -1)]\n",
        "\n",
        "  # TESTS\n",
        "\n",
        "  def test_no_checked_inc(self):\n",
        "    self.assertEqual(compute_gap(self.get_inc(), self.get_no_checked(), 2), self.get_one_checked(0), \"2\")\n",
        "    self.assertEqual(compute_gap(self.get_inc(), self.get_no_checked(), 3), self.get_one_checked(1), \"3\")\n",
        "    self.assertEqual(compute_gap(self.get_inc(), self.get_no_checked(), 4), self.get_one_checked(2), \"4\")\n",
        "    self.assertEqual(compute_gap(self.get_inc(), self.get_no_checked(), 5), self.get_no_checked(), \"5\")\n",
        "    self.assertEqual(compute_gap(self.get_inc(), self.get_no_checked(), 8), self.get_no_checked(), \"8\")\n",
        "    \n",
        "  def test_no_checked_dec(self):\n",
        "    self.assertEqual(compute_gap(self.get_dec(), self.get_no_checked(), 12), self.get_one_checked(0), \"12\")\n",
        "    self.assertEqual(compute_gap(self.get_dec(), self.get_no_checked(), 11), self.get_one_checked(1), \"11\")\n",
        "    self.assertEqual(compute_gap(self.get_dec(), self.get_no_checked(), 10), self.get_one_checked(2), \"10\")\n",
        "    self.assertEqual(compute_gap(self.get_dec(), self.get_no_checked(), 9), self.get_no_checked(), \"9\")\n",
        "    self.assertEqual(compute_gap(self.get_dec(), self.get_no_checked(), 5), self.get_no_checked(), \"5\")\n",
        "\n",
        "  def test_one_checked_inc(self):\n",
        "    self.assertEqual(compute_gap(self.get_inc(), self.get_one_checked(0), 2), self.get_one_checked(0), \"2\")\n",
        "    self.assertEqual(compute_gap(self.get_inc(), self.get_one_checked(0), 3), self.get_checked([0, 1]), \"3\")\n",
        "    self.assertEqual(compute_gap(self.get_inc(), self.get_one_checked(0), 4), self.get_checked([0, 2]), \"4\")\n",
        "    self.assertEqual(compute_gap(self.get_inc(), self.get_one_checked(0), 5), self.get_checked([0, 3]), \"5\")\n",
        "    self.assertEqual(compute_gap(self.get_inc(), self.get_one_checked(0), 6), self.get_one_checked(0), \"6\")\n",
        "    self.assertEqual(compute_gap(self.get_inc(), self.get_one_checked(0), 10), self.get_one_checked(0), \"10\")\n",
        "    # TODO: test with another first index\n",
        "\n",
        "  def test_one_checked_dec(self):\n",
        "    self.assertEqual(compute_gap(self.get_dec(), self.get_one_checked(0), 12), self.get_one_checked(0), \"12\")\n",
        "    self.assertEqual(compute_gap(self.get_dec(), self.get_one_checked(0), 11), self.get_checked([0, 1]), \"11\")\n",
        "    self.assertEqual(compute_gap(self.get_dec(), self.get_one_checked(0), 10), self.get_checked([0, 2]), \"10\")\n",
        "    self.assertEqual(compute_gap(self.get_dec(), self.get_one_checked(0), 9), self.get_checked([0, 3]), \"9\")\n",
        "    self.assertEqual(compute_gap(self.get_dec(), self.get_one_checked(0), 7), self.get_one_checked(0), \"7\")\n",
        "    self.assertEqual(compute_gap(self.get_dec(), self.get_one_checked(0), 4), self.get_one_checked(0), \"4\")\n",
        "    # TODO: test with another first index\n",
        "\n",
        "  def test_two_checked_inc(self):\n",
        "    self.assertEqual(compute_gap(self.get_inc(), self.get_checked([2, 4]), 2), self.get_checked([2, 4]), \"2\")\n",
        "    self.assertEqual(compute_gap(self.get_inc(), self.get_checked([2, 4]), 3), self.get_checked([2, 4]), \"3\")\n",
        "    self.assertEqual(compute_gap(self.get_inc(), self.get_checked([2, 4]), 4), self.get_checked([2, 4]), \"4\")\n",
        "    self.assertEqual(compute_gap(self.get_inc(), self.get_checked([2, 4]), 5), self.get_checked([2, 4]), \"5\")\n",
        "    self.assertEqual(compute_gap(self.get_inc(), self.get_checked([2, 4]), 6), self.get_checked([2, 4]), \"6\")\n",
        "    self.assertEqual(compute_gap(self.get_inc(), self.get_checked([2, 4]), 7), self.get_checked([2, 4, 5]), \"7\")\n",
        "    self.assertEqual(compute_gap(self.get_inc(), self.get_checked([2, 4]), 8), self.get_checked([2, 4, 6]), \"8\")\n",
        "    self.assertEqual(compute_gap(self.get_inc(), self.get_checked([2, 4]), 9), self.get_checked([2, 4, 7]), \"9\")\n",
        "    self.assertEqual(compute_gap(self.get_inc(), self.get_checked([2, 4]), 10), self.get_checked([2, 4]), \"10\")\n",
        "\n",
        "  def test_two_checked_dec(self):\n",
        "    self.assertEqual(compute_gap(self.get_dec(), self.get_checked([5, 6]), 12), self.get_checked([5, 6]), \"12\")\n",
        "    self.assertEqual(compute_gap(self.get_dec(), self.get_checked([5, 6]), 7), self.get_checked([5, 6]), \"7\")\n",
        "    self.assertEqual(compute_gap(self.get_dec(), self.get_checked([5, 6]), 6), self.get_checked([5, 6]), \"6\")\n",
        "    self.assertEqual(compute_gap(self.get_dec(), self.get_checked([5, 6]), 5), self.get_checked([5, 6, 7]), \"5\")\n",
        "    self.assertEqual(compute_gap(self.get_dec(), self.get_checked([5, 6]), 4), self.get_checked([5, 6, 8]), \"4\")\n",
        "    self.assertEqual(compute_gap(self.get_dec(), self.get_checked([5, 6]), 3), self.get_checked([5, 6, 9]), \"3\")\n",
        "    self.assertEqual(compute_gap(self.get_dec(), self.get_checked([5, 6]), 2), self.get_checked([5, 6]), \"2\")"
      ],
      "metadata": {
        "id": "mCI92pPa9j4l"
      },
      "execution_count": 6,
      "outputs": []
    },
    {
      "cell_type": "code",
      "source": [
        "unittest.main(argv=[''], verbosity=2, exit=False)"
      ],
      "metadata": {
        "colab": {
          "base_uri": "https://localhost:8080/"
        },
        "id": "CmWV1Etx9mpI",
        "outputId": "196ab310-ae70-43e7-c6db-e7514a5769e3"
      },
      "execution_count": 7,
      "outputs": [
        {
          "output_type": "stream",
          "name": "stderr",
          "text": [
            "test_no_checked_dec (__main__.TestComputeGap) ... ok\n",
            "test_no_checked_inc (__main__.TestComputeGap) ... ok\n",
            "test_one_checked_dec (__main__.TestComputeGap) ... ok\n",
            "test_one_checked_inc (__main__.TestComputeGap) ... ok\n",
            "test_two_checked_dec (__main__.TestComputeGap) ... ok\n",
            "test_two_checked_inc (__main__.TestComputeGap) ... ok\n",
            "\n",
            "----------------------------------------------------------------------\n",
            "Ran 6 tests in 0.020s\n",
            "\n",
            "OK\n"
          ]
        },
        {
          "output_type": "execute_result",
          "data": {
            "text/plain": [
              "<unittest.main.TestProgram at 0x7f176df98ed0>"
            ]
          },
          "metadata": {},
          "execution_count": 7
        }
      ]
    }
  ]
}